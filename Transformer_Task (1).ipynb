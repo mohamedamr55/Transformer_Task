{
 "cells": [
  {
   "cell_type": "code",
   "execution_count": 1,
   "id": "c7b64b74",
   "metadata": {},
   "outputs": [
    {
     "name": "stdout",
     "output_type": "stream",
     "text": [
      "Attention Weights:\n",
      "tensor([[0.2044, 0.2024, 0.1944, 0.1974, 0.2014],\n",
      "        [0.2020, 0.2040, 0.1921, 0.2010, 0.2010],\n",
      "        [0.1959, 0.1940, 0.2123, 0.1979, 0.1999],\n",
      "        [0.1980, 0.2020, 0.1970, 0.2050, 0.1980],\n",
      "        [0.2008, 0.2008, 0.1978, 0.1968, 0.2038]])\n",
      "\n",
      "Output Vectors:\n",
      "tensor([[0.2385, 0.2417, 0.2183, 0.3015],\n",
      "        [0.2372, 0.2416, 0.2191, 0.3021],\n",
      "        [0.2445, 0.2374, 0.2212, 0.2969],\n",
      "        [0.2382, 0.2401, 0.2211, 0.3006],\n",
      "        [0.2400, 0.2405, 0.2187, 0.3009]])\n"
     ]
    }
   ],
   "source": [
    "import torch\n",
    "import torch.nn.functional as F\n",
    "\n",
    "def simple_attention(sentence_embeddings):\n",
    "   \n",
    "    seq_len, d_k = sentence_embeddings.shape\n",
    "    \n",
    "    scores = torch.mm(sentence_embeddings, sentence_embeddings.t()) / (d_k ** 0.5)\n",
    "    \n",
    "    attention_weights = F.softmax(scores, dim=-1)\n",
    "    \n",
    "    context_vectors = torch.mm(attention_weights, sentence_embeddings)\n",
    "    \n",
    "    return attention_weights, context_vectors\n",
    "\n",
    "# Example usage:\n",
    "words = [\"What\", \"are\", \"symptoms\", \"of\", \"diabetes\"]\n",
    "embedding_dim = 4  # Small for demonstration\n",
    "\n",
    "embeddings = torch.tensor([\n",
    "    [0.2, 0.4, 0.1, 0.3],  # What\n",
    "    [0.1, 0.3, 0.2, 0.4],  # are\n",
    "    [0.5, 0.1, 0.3, 0.1],  # symptoms\n",
    "    [0.1, 0.2, 0.4, 0.3],  # of\n",
    "    [0.3, 0.2, 0.1, 0.4],  # diabetes\n",
    "], dtype=torch.float32)\n",
    "\n",
    "# Compute attention\n",
    "weights, outputs = simple_attention(embeddings)\n",
    "\n",
    "print(\"Attention Weights:\")\n",
    "print(weights)\n",
    "print(\"\\nOutput Vectors:\")\n",
    "print(outputs)"
   ]
  },
  {
   "cell_type": "code",
   "execution_count": null,
   "id": "691bf7e6",
   "metadata": {},
   "outputs": [],
   "source": []
  }
 ],
 "metadata": {
  "kernelspec": {
   "display_name": "Python 3 (ipykernel)",
   "language": "python",
   "name": "python3"
  },
  "language_info": {
   "codemirror_mode": {
    "name": "ipython",
    "version": 3
   },
   "file_extension": ".py",
   "mimetype": "text/x-python",
   "name": "python",
   "nbconvert_exporter": "python",
   "pygments_lexer": "ipython3",
   "version": "3.9.7"
  }
 },
 "nbformat": 4,
 "nbformat_minor": 5
}
